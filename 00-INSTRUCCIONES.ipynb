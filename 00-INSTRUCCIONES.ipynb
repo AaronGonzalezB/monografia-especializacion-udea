{
 "cells": [
  {
   "cell_type": "markdown",
   "metadata": {},
   "source": [
    "## Instrucciones ejecución Notebook monografía\n",
    "\n",
    "### IEEE-CIS Fraud Detection - Kaggle competition\n",
    "\n",
    "*Link competición: https://www.kaggle.com/c/ieee-fraud-detection/*\n",
    "\n",
    "El siguiente notebook especifica las instrucciones de descarga de información y ejecución del notebook de Google Colab **IEEE-CIS Fraud Detection.ipynb**\n",
    "\n",
    "#### 1. Configuración entorno Kaggle\n",
    "\n",
    "*Tomado de: https://www.kaggle.com/general/74235*\n",
    "\n",
    "**Necesario contar con una cuenta de Kaggle para generar el API Token, el cual genera un .json que es el que usa para enlazar la cuenta de Colab con Kaggle**\n",
    "\n",
    "*Ruta: Kaggle - Account - API section - Create New API Token*\n",
    "\n",
    "El archivo .json se guardará en la carpeta .kaggle ubicada en la carpeta User en C\n",
    "\n",
    "1.1. Instalación de librería de Kaggle en el entorno"
   ]
  },
  {
   "cell_type": "code",
   "execution_count": null,
   "metadata": {},
   "outputs": [],
   "source": [
    "cd /content"
   ]
  },
  {
   "cell_type": "code",
   "execution_count": null,
   "metadata": {},
   "outputs": [],
   "source": [
    "! rm kaggle.json   #Descomentar en caso de actualizar archivo"
   ]
  },
  {
   "cell_type": "code",
   "execution_count": null,
   "metadata": {},
   "outputs": [],
   "source": [
    "! rm -rf monografia"
   ]
  },
  {
   "cell_type": "code",
   "execution_count": null,
   "metadata": {},
   "outputs": [],
   "source": [
    "! rm -rf dataset"
   ]
  },
  {
   "cell_type": "code",
   "execution_count": null,
   "metadata": {},
   "outputs": [],
   "source": [
    "! pip install -q kaggle"
   ]
  },
  {
   "cell_type": "markdown",
   "metadata": {},
   "source": [
    "1.2. Generamos en el perfil de Kaggle un Token, este se guardará en el directorio del usuario: \n",
    "\n",
    "        C:\\Users\\user\\.kaggle\n",
    "\n",
    "Cargamos el json que está en el directorio."
   ]
  },
  {
   "cell_type": "code",
   "execution_count": null,
   "metadata": {},
   "outputs": [],
   "source": [
    "from google.colab import files\n",
    "\n",
    "files.upload()   #Descomentar en caso de actualizar archivo"
   ]
  },
  {
   "cell_type": "markdown",
   "metadata": {},
   "source": [
    "1.3. Creación del directorio donde se alamcenará el json en Colab"
   ]
  },
  {
   "cell_type": "code",
   "execution_count": null,
   "metadata": {},
   "outputs": [],
   "source": [
    "! mkdir ~/.kaggle"
   ]
  },
  {
   "cell_type": "code",
   "execution_count": null,
   "metadata": {},
   "outputs": [],
   "source": [
    "! cp kaggle.json ~/.kaggle/"
   ]
  },
  {
   "cell_type": "markdown",
   "metadata": {},
   "source": [
    "1.4. Configuración de permisos de lectura y escritura sobre el archivo.\n",
    "\n",
    "  https://chmodcommand.com/chmod-600/"
   ]
  },
  {
   "cell_type": "code",
   "execution_count": null,
   "metadata": {},
   "outputs": [],
   "source": [
    "! chmod 600 ~/.kaggle/kaggle.json"
   ]
  },
  {
   "cell_type": "markdown",
   "metadata": {},
   "source": [
    "1.5. Chequeo de acceso a la API de Kaggle"
   ]
  },
  {
   "cell_type": "code",
   "execution_count": null,
   "metadata": {},
   "outputs": [],
   "source": [
    "! kaggle datasets list"
   ]
  },
  {
   "cell_type": "markdown",
   "metadata": {},
   "source": [
    "#### 2. Descarga datasets\n",
    "\n",
    "Se crea el directorio donde se descargará el dataset. Se debe descomprimir la información."
   ]
  },
  {
   "cell_type": "code",
   "execution_count": null,
   "metadata": {},
   "outputs": [],
   "source": [
    "! mkdir monografia"
   ]
  },
  {
   "cell_type": "code",
   "execution_count": null,
   "metadata": {},
   "outputs": [],
   "source": [
    "cd monografia/"
   ]
  },
  {
   "cell_type": "code",
   "execution_count": null,
   "metadata": {},
   "outputs": [],
   "source": [
    "! mkdir dataset"
   ]
  },
  {
   "cell_type": "code",
   "execution_count": null,
   "metadata": {},
   "outputs": [],
   "source": [
    "cd dataset/"
   ]
  },
  {
   "cell_type": "code",
   "execution_count": null,
   "metadata": {},
   "outputs": [],
   "source": [
    "! kaggle competitions download -c ieee-fraud-detection"
   ]
  },
  {
   "cell_type": "markdown",
   "metadata": {},
   "source": [
    "#### 3. Ejecución del notebook\n",
    "\n",
    "El proyecto está diseñado para ejecutar todo lo anterior y el caso de estudio en una sola ejecución, no es necesario ejecutar estas instrucciones por separado. Solo es informativo."
   ]
  },
  {
   "cell_type": "markdown",
   "metadata": {},
   "source": [
    "#### 4. Modelos ML\n",
    "\n",
    "Se adjuntan los modelos serializados (.pkl), para las predicciones el proceso importa los modelos a Colab."
   ]
  }
 ],
 "metadata": {
  "kernelspec": {
   "display_name": "Python (Keras_2)",
   "language": "python",
   "name": "keras_2"
  },
  "language_info": {
   "codemirror_mode": {
    "name": "ipython",
    "version": 3
   },
   "file_extension": ".py",
   "mimetype": "text/x-python",
   "name": "python",
   "nbconvert_exporter": "python",
   "pygments_lexer": "ipython3",
   "version": "3.7.7"
  }
 },
 "nbformat": 4,
 "nbformat_minor": 4
}
